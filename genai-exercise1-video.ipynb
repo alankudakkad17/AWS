{
 "cells": [
  {
   "cell_type": "code",
   "execution_count": 1,
   "id": "9aae25c4-17fe-4c00-9880-0914c3465e99",
   "metadata": {},
   "outputs": [
    {
     "name": "stdout",
     "output_type": "stream",
     "text": [
      "✅ Job submitted!\n",
      "Invocation ARN: arn:aws:bedrock:us-east-1:787585013527:async-invoke/ejmrv6clkiuc\n"
     ]
    }
   ],
   "source": [
    "import boto3\n",
    "import json\n",
    "import random\n",
    "bedrock_runtime = boto3.client(\"bedrock-runtime\", region_name=\"us-east-1\")\n",
    "bedrock = boto3.client(service_name=\"bedrock\", region_name=\"us-east-1\")  \n",
    "s3 = boto3.client(\"s3\")\n",
    "model_id = \"amazon.nova-reel-v1:0\"\n",
    "\n",
    "prompt = \"A person dancing on a mountain.\"\n",
    "\n",
    "seed = random.randint(0, 2147483646)\n",
    "\n",
    "model_input = {\n",
    "    \"taskType\": \"TEXT_VIDEO\",\n",
    "    \"textToVideoParams\": {\"text\": prompt},\n",
    "    \"videoGenerationConfig\": {\n",
    "        \"fps\": 24,\n",
    "        \"durationSeconds\": 6,\n",
    "        \"dimension\": \"1280x720\",\n",
    "        \"seed\": seed,\n",
    "    },\n",
    "}\n",
    "\n",
    "output_config = {\n",
    "    \"s3OutputDataConfig\": {\n",
    "        \"s3Uri\": \"s3://gen-ai-exercise-anto/video/\"\n",
    "    }\n",
    "}\n",
    "\n",
    "response = bedrock_runtime.start_async_invoke(\n",
    "    modelId=model_id,\n",
    "    modelInput=model_input,\n",
    "    outputDataConfig=output_config,\n",
    ")\n",
    "\n",
    "invocation_arn = response[\"invocationArn\"]\n",
    "print(\"✅ Job submitted!\")\n",
    "print(\"Invocation ARN:\", invocation_arn)\n"
   ]
  },
  {
   "cell_type": "code",
   "execution_count": 5,
   "id": "6f348fa8-0a2a-4cd0-bbd3-faf4e857692b",
   "metadata": {},
   "outputs": [
    {
     "name": "stdout",
     "output_type": "stream",
     "text": [
      "Current Status: Completed\n"
     ]
    }
   ],
   "source": [
    "job_status = bedrock_runtime.get_async_invoke(invocationArn=invocation_arn)\n",
    "print(\"Current Status:\", job_status[\"status\"])"
   ]
  },
  {
   "cell_type": "code",
   "execution_count": null,
   "id": "20aa2098-fe77-486f-ac97-901d3cebcd8f",
   "metadata": {},
   "outputs": [],
   "source": []
  }
 ],
 "metadata": {
  "kernelspec": {
   "display_name": "Python 3 (ipykernel)",
   "language": "python",
   "name": "python3"
  },
  "language_info": {
   "codemirror_mode": {
    "name": "ipython",
    "version": 3
   },
   "file_extension": ".py",
   "mimetype": "text/x-python",
   "name": "python",
   "nbconvert_exporter": "python",
   "pygments_lexer": "ipython3",
   "version": "3.11.5"
  }
 },
 "nbformat": 4,
 "nbformat_minor": 5
}
