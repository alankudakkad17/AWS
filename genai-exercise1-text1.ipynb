{
 "cells": [
  {
   "cell_type": "code",
   "execution_count": 1,
   "id": "7a064540-8b41-4857-a1b2-f6f81aaa0d51",
   "metadata": {},
   "outputs": [
    {
     "data": {
      "text/plain": [
       "b'{\"output\":{\"message\":{\"content\":[{\"text\":\"You exhibit exceptional proficiency in your professional responsibilities.\"}],\"role\":\"assistant\"}},\"stopReason\":\"end_turn\",\"usage\":{\"inputTokens\":19,\"outputTokens\":10,\"totalTokens\":29,\"cacheReadInputTokenCount\":0,\"cacheWriteInputTokenCount\":0}}'"
      ]
     },
     "execution_count": 1,
     "metadata": {},
     "output_type": "execute_result"
    }
   ],
   "source": [
    "import boto3\n",
    "import json\n",
    "\n",
    "MODEL_ID = \"amazon.nova-micro-v1:0\"\n",
    "bedrock = boto3.client(service_name='bedrock-runtime', region_name='us-east-1')\n",
    "\n",
    "response = bedrock.invoke_model(\n",
    "    modelId=MODEL_ID,\n",
    "    guardrailVersion=\"DRAFT\",\n",
    "    body=json.dumps({\n",
    "        \"schemaVersion\": \"messages-v1\",\n",
    "        \"messages\": [{\"role\": \"user\", \"content\": [{\"text\": \"Rewrite this sentence for me in a formal tone: You are very good at your job.\"}]}],\n",
    "        \"inferenceConfig\": {\"maxTokens\": 500, \"topK\": 20, \"temperature\": 0.7}\n",
    "    })\n",
    ")\n",
    "\n",
    "response['body'].read()"
   ]
  },
  {
   "cell_type": "code",
   "execution_count": null,
   "id": "199aa8c6-0b00-4f22-a360-fdebc7039ae6",
   "metadata": {},
   "outputs": [],
   "source": []
  }
 ],
 "metadata": {
  "kernelspec": {
   "display_name": "Python 3 (ipykernel)",
   "language": "python",
   "name": "python3"
  },
  "language_info": {
   "codemirror_mode": {
    "name": "ipython",
    "version": 3
   },
   "file_extension": ".py",
   "mimetype": "text/x-python",
   "name": "python",
   "nbconvert_exporter": "python",
   "pygments_lexer": "ipython3",
   "version": "3.11.5"
  }
 },
 "nbformat": 4,
 "nbformat_minor": 5
}
